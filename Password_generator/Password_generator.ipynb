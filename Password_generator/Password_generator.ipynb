{
 "cells": [
  {
   "cell_type": "code",
   "execution_count": 8,
   "id": "304dad97-79a1-415e-be43-0e08b3c652d2",
   "metadata": {},
   "outputs": [],
   "source": [
    "import string as st\n",
    "import random as rd"
   ]
  },
  {
   "cell_type": "code",
   "execution_count": 9,
   "id": "a0d3053b-3204-4dd3-881a-641fb768dad1",
   "metadata": {},
   "outputs": [],
   "source": [
    "set1=st.ascii_lowercase\n",
    "set2=st.ascii_uppercase\n",
    "set3=st.digits\n",
    "set4=st.punctuation"
   ]
  },
  {
   "cell_type": "code",
   "execution_count": 10,
   "id": "37025e62-5c8b-492f-9a56-66321d0aadf9",
   "metadata": {},
   "outputs": [
    {
     "name": "stdin",
     "output_type": "stream",
     "text": [
      "Enter the length of password you required: 15\n"
     ]
    }
   ],
   "source": [
    "password_length=int(input(\"Enter the length of password you required:\"))"
   ]
  },
  {
   "cell_type": "code",
   "execution_count": 12,
   "id": "f024e29e-c854-43f0-b93c-910230ec9652",
   "metadata": {},
   "outputs": [],
   "source": [
    "s=[]\n",
    "s.extend(set1)\n",
    "s.extend(set2)\n",
    "s.extend(set3)\n",
    "s.extend(set4)\n"
   ]
  },
  {
   "cell_type": "code",
   "execution_count": 13,
   "id": "1de14586-351e-4def-9da1-5d4265157575",
   "metadata": {},
   "outputs": [
    {
     "name": "stdout",
     "output_type": "stream",
     "text": [
      "Your password is:\n",
      " E_6*\"57yx@.}l<t\n"
     ]
    }
   ],
   "source": [
    "rd.shuffle(s)\n",
    "print('Your password is:\\n',''.join(s[0:password_length]))"
   ]
  },
  {
   "cell_type": "code",
   "execution_count": null,
   "id": "36b034cb-3364-4848-bb98-a27ce1c3d5ab",
   "metadata": {},
   "outputs": [],
   "source": []
  }
 ],
 "metadata": {
  "kernelspec": {
   "display_name": "Python 3 (ipykernel)",
   "language": "python",
   "name": "python3"
  },
  "language_info": {
   "codemirror_mode": {
    "name": "ipython",
    "version": 3
   },
   "file_extension": ".py",
   "mimetype": "text/x-python",
   "name": "python",
   "nbconvert_exporter": "python",
   "pygments_lexer": "ipython3",
   "version": "3.12.2"
  }
 },
 "nbformat": 4,
 "nbformat_minor": 5
}
