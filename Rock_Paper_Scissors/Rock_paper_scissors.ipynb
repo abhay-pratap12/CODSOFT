{
 "cells": [
  {
   "cell_type": "code",
   "execution_count": 4,
   "id": "ba58ccb7-d8bb-4a40-a562-5d84c0974b33",
   "metadata": {},
   "outputs": [],
   "source": [
    "import random as rd"
   ]
  },
  {
   "cell_type": "code",
   "execution_count": 5,
   "id": "aee71fa6-1180-401a-9eca-7e526bfbf43e",
   "metadata": {},
   "outputs": [],
   "source": [
    "user_wins=0\n",
    "bot_wins=0\n",
    "options=['rock','paper','scissors']"
   ]
  },
  {
   "cell_type": "code",
   "execution_count": 6,
   "id": "71ed878e-99e9-44d3-ace5-b8b1a8db36d3",
   "metadata": {},
   "outputs": [
    {
     "name": "stdin",
     "output_type": "stream",
     "text": [
      "Type--> Rock / Paper / Scissors or Q to quit game rock\n"
     ]
    },
    {
     "name": "stdout",
     "output_type": "stream",
     "text": [
      "User picked rock.\n",
      "Bot picked scissors.\n",
      "You won!!\n"
     ]
    },
    {
     "name": "stdin",
     "output_type": "stream",
     "text": [
      "Type--> Rock / Paper / Scissors or Q to quit game paper\n"
     ]
    },
    {
     "name": "stdout",
     "output_type": "stream",
     "text": [
      "User picked paper.\n",
      "Bot picked scissors.\n",
      "You lose!\n"
     ]
    },
    {
     "name": "stdin",
     "output_type": "stream",
     "text": [
      "Type--> Rock / Paper / Scissors or Q to quit game scissors\n"
     ]
    },
    {
     "name": "stdout",
     "output_type": "stream",
     "text": [
      "User picked scissors.\n",
      "Bot picked paper.\n",
      "You won!!\n"
     ]
    },
    {
     "name": "stdin",
     "output_type": "stream",
     "text": [
      "Type--> Rock / Paper / Scissors or Q to quit game rock\n"
     ]
    },
    {
     "name": "stdout",
     "output_type": "stream",
     "text": [
      "User picked rock.\n",
      "Bot picked paper.\n",
      "You lose!\n"
     ]
    },
    {
     "name": "stdin",
     "output_type": "stream",
     "text": [
      "Type--> Rock / Paper / Scissors or Q to quit game rock\n"
     ]
    },
    {
     "name": "stdout",
     "output_type": "stream",
     "text": [
      "User picked rock.\n",
      "Bot picked scissors.\n",
      "You won!!\n"
     ]
    },
    {
     "name": "stdin",
     "output_type": "stream",
     "text": [
      "Type--> Rock / Paper / Scissors or Q to quit game rock\n"
     ]
    },
    {
     "name": "stdout",
     "output_type": "stream",
     "text": [
      "User picked rock.\n",
      "Bot picked scissors.\n",
      "You won!!\n"
     ]
    },
    {
     "name": "stdin",
     "output_type": "stream",
     "text": [
      "Type--> Rock / Paper / Scissors or Q to quit game rock\n"
     ]
    },
    {
     "name": "stdout",
     "output_type": "stream",
     "text": [
      "User picked rock.\n",
      "Bot picked paper.\n",
      "You lose!\n"
     ]
    },
    {
     "name": "stdin",
     "output_type": "stream",
     "text": [
      "Type--> Rock / Paper / Scissors or Q to quit game rock\n"
     ]
    },
    {
     "name": "stdout",
     "output_type": "stream",
     "text": [
      "User picked rock.\n",
      "Bot picked paper.\n",
      "You lose!\n"
     ]
    },
    {
     "name": "stdin",
     "output_type": "stream",
     "text": [
      "Type--> Rock / Paper / Scissors or Q to quit game rock\n"
     ]
    },
    {
     "name": "stdout",
     "output_type": "stream",
     "text": [
      "User picked rock.\n",
      "Bot picked paper.\n",
      "You lose!\n"
     ]
    },
    {
     "name": "stdin",
     "output_type": "stream",
     "text": [
      "Type--> Rock / Paper / Scissors or Q to quit game rock\n"
     ]
    },
    {
     "name": "stdout",
     "output_type": "stream",
     "text": [
      "User picked rock.\n",
      "Bot picked paper.\n",
      "You lose!\n"
     ]
    },
    {
     "name": "stdin",
     "output_type": "stream",
     "text": [
      "Type--> Rock / Paper / Scissors or Q to quit game paper\n"
     ]
    },
    {
     "name": "stdout",
     "output_type": "stream",
     "text": [
      "User picked paper.\n",
      "Bot picked rock.\n",
      "You won!!\n"
     ]
    },
    {
     "name": "stdin",
     "output_type": "stream",
     "text": [
      "Type--> Rock / Paper / Scissors or Q to quit game paer\n",
      "Type--> Rock / Paper / Scissors or Q to quit game paper\n"
     ]
    },
    {
     "name": "stdout",
     "output_type": "stream",
     "text": [
      "User picked paper.\n",
      "Bot picked scissors.\n",
      "You lose!\n"
     ]
    },
    {
     "name": "stdin",
     "output_type": "stream",
     "text": [
      "Type--> Rock / Paper / Scissors or Q to quit game paper\n"
     ]
    },
    {
     "name": "stdout",
     "output_type": "stream",
     "text": [
      "User picked paper.\n",
      "Bot picked paper.\n",
      "Tie\n"
     ]
    },
    {
     "name": "stdin",
     "output_type": "stream",
     "text": [
      "Type--> Rock / Paper / Scissors or Q to quit game q\n"
     ]
    },
    {
     "name": "stdout",
     "output_type": "stream",
     "text": [
      "You won 5 times.\n",
      "Bot won 7 times.\n",
      "Bye!\n"
     ]
    }
   ],
   "source": [
    "while True:\n",
    "    user_input=input(\"Type--> Rock / Paper / Scissors or Q to quit game\").lower()\n",
    "    if user_input=='q':\n",
    "        break\n",
    "    if user_input not in options:\n",
    "        continue\n",
    "    random_number=rd.randint(0,2)\n",
    "    bot_pick=options[random_number]\n",
    "    print(\"User picked\",user_input+'.')\n",
    "    print(\"Bot picked\",bot_pick+'.')\n",
    "    \n",
    "\n",
    "    if user_input=='rock' and bot_pick=='scissors':\n",
    "        print(\"You won!!\")\n",
    "        user_wins+=1\n",
    "    elif user_input=='scissors' and bot_pick=='paper':\n",
    "        print(\"You won!!\")\n",
    "        user_wins+=1\n",
    "    elif user_input=='paper' and bot_pick=='rock':\n",
    "        print(\"You won!!\")\n",
    "        user_wins+=1\n",
    "    elif user_input==bot_pick:\n",
    "        print(\"Tie\")\n",
    "    else:\n",
    "        print(\"You lose!\")\n",
    "        bot_wins+=1\n",
    "        \n",
    "print(\"You won\",user_wins,\"times.\")\n",
    "print(\"Bot won\",bot_wins,\"times.\")\n",
    "\n",
    "print(\"Bye!\")"
   ]
  },
  {
   "cell_type": "code",
   "execution_count": null,
   "id": "b3f2d2c2-4980-47d4-91d3-4868772faf12",
   "metadata": {},
   "outputs": [],
   "source": []
  }
 ],
 "metadata": {
  "kernelspec": {
   "display_name": "Python 3 (ipykernel)",
   "language": "python",
   "name": "python3"
  },
  "language_info": {
   "codemirror_mode": {
    "name": "ipython",
    "version": 3
   },
   "file_extension": ".py",
   "mimetype": "text/x-python",
   "name": "python",
   "nbconvert_exporter": "python",
   "pygments_lexer": "ipython3",
   "version": "3.12.2"
  }
 },
 "nbformat": 4,
 "nbformat_minor": 5
}
