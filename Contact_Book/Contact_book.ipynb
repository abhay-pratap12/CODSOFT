{
 "cells": [
  {
   "cell_type": "code",
   "execution_count": 4,
   "id": "c28d6a6b-6157-447d-896e-bbcfd1b60d6b",
   "metadata": {},
   "outputs": [
    {
     "name": "stdin",
     "output_type": "stream",
     "text": [
      "\n",
      "    1. Add a contact\n",
      "    2. Display my contacts\n",
      "    3. Search contacts\n",
      "    4. Edit contact\n",
      "    5. Delete a contact\n",
      "    9. To exit\n",
      "    Enter your choice: 1\n"
     ]
    },
    {
     "name": "stdout",
     "output_type": "stream",
     "text": [
      "-------------------------------------------------------------------------------------------------------\n"
     ]
    },
    {
     "name": "stdin",
     "output_type": "stream",
     "text": [
      "Enter the contact name: yash\n",
      "Enter the phone number: 541236\n"
     ]
    },
    {
     "name": "stdout",
     "output_type": "stream",
     "text": [
      "------------------------------------------------------------------------------\n"
     ]
    },
    {
     "name": "stdin",
     "output_type": "stream",
     "text": [
      "\n",
      "    1. Add a contact\n",
      "    2. Display my contacts\n",
      "    3. Search contacts\n",
      "    4. Edit contact\n",
      "    5. Delete a contact\n",
      "    9. To exit\n",
      "    Enter your choice: 4\n"
     ]
    },
    {
     "name": "stdout",
     "output_type": "stream",
     "text": [
      "------------------------------------------------------------------------------\n"
     ]
    },
    {
     "name": "stdin",
     "output_type": "stream",
     "text": [
      "Enter the contact name to be edited: yash\n",
      "Enter contact name: raj\n",
      "Enter phone number: 1593257\n"
     ]
    },
    {
     "name": "stdout",
     "output_type": "stream",
     "text": [
      "Contact edited\n",
      "-----------------------------------------------------------------------------------------------------------\n",
      "Name\t\tContact Number\n",
      "raj\t\t1593257\n",
      "-----------------------------------------------------------------------------------------------------------\n",
      "------------------------------------------------------------------------------\n"
     ]
    },
    {
     "name": "stdin",
     "output_type": "stream",
     "text": [
      "\n",
      "    1. Add a contact\n",
      "    2. Display my contacts\n",
      "    3. Search contacts\n",
      "    4. Edit contact\n",
      "    5. Delete a contact\n",
      "    9. To exit\n",
      "    Enter your choice: 2\n"
     ]
    },
    {
     "name": "stdout",
     "output_type": "stream",
     "text": [
      "-----------------------------------------------------------------------------------------------------------\n",
      "Name\t\tContact Number\n",
      "raj\t\t1593257\n",
      "-----------------------------------------------------------------------------------------------------------\n"
     ]
    },
    {
     "name": "stdin",
     "output_type": "stream",
     "text": [
      "\n",
      "    1. Add a contact\n",
      "    2. Display my contacts\n",
      "    3. Search contacts\n",
      "    4. Edit contact\n",
      "    5. Delete a contact\n",
      "    9. To exit\n",
      "    Enter your choice: 5\n"
     ]
    },
    {
     "name": "stdout",
     "output_type": "stream",
     "text": [
      "------------------------------------------------------------------------------\n"
     ]
    },
    {
     "name": "stdin",
     "output_type": "stream",
     "text": [
      "Enter the contact to be deleted: raj\n",
      "Do you want to delete this contact y/n? y\n"
     ]
    },
    {
     "name": "stdout",
     "output_type": "stream",
     "text": [
      "------------------------------------------------------------------------------\n"
     ]
    },
    {
     "name": "stdin",
     "output_type": "stream",
     "text": [
      "\n",
      "    1. Add a contact\n",
      "    2. Display my contacts\n",
      "    3. Search contacts\n",
      "    4. Edit contact\n",
      "    5. Delete a contact\n",
      "    9. To exit\n",
      "    Enter your choice: 1\n"
     ]
    },
    {
     "name": "stdout",
     "output_type": "stream",
     "text": [
      "-------------------------------------------------------------------------------------------------------\n"
     ]
    },
    {
     "name": "stdin",
     "output_type": "stream",
     "text": [
      "Enter the contact name: raj\n",
      "Enter the phone number: 7896321\n"
     ]
    },
    {
     "name": "stdout",
     "output_type": "stream",
     "text": [
      "------------------------------------------------------------------------------\n"
     ]
    },
    {
     "name": "stdin",
     "output_type": "stream",
     "text": [
      "\n",
      "    1. Add a contact\n",
      "    2. Display my contacts\n",
      "    3. Search contacts\n",
      "    4. Edit contact\n",
      "    5. Delete a contact\n",
      "    9. To exit\n",
      "    Enter your choice: 1\n"
     ]
    },
    {
     "name": "stdout",
     "output_type": "stream",
     "text": [
      "-------------------------------------------------------------------------------------------------------\n"
     ]
    },
    {
     "name": "stdin",
     "output_type": "stream",
     "text": [
      "Enter the contact name: yash\n",
      "Enter the phone number: 1478963\n"
     ]
    },
    {
     "name": "stdout",
     "output_type": "stream",
     "text": [
      "------------------------------------------------------------------------------\n"
     ]
    },
    {
     "name": "stdin",
     "output_type": "stream",
     "text": [
      "\n",
      "    1. Add a contact\n",
      "    2. Display my contacts\n",
      "    3. Search contacts\n",
      "    4. Edit contact\n",
      "    5. Delete a contact\n",
      "    9. To exit\n",
      "    Enter your choice: 1\n"
     ]
    },
    {
     "name": "stdout",
     "output_type": "stream",
     "text": [
      "-------------------------------------------------------------------------------------------------------\n"
     ]
    },
    {
     "name": "stdin",
     "output_type": "stream",
     "text": [
      "Enter the contact name: manish\n",
      "Enter the phone number: 9512357\n"
     ]
    },
    {
     "name": "stdout",
     "output_type": "stream",
     "text": [
      "------------------------------------------------------------------------------\n"
     ]
    },
    {
     "name": "stdin",
     "output_type": "stream",
     "text": [
      "\n",
      "    1. Add a contact\n",
      "    2. Display my contacts\n",
      "    3. Search contacts\n",
      "    4. Edit contact\n",
      "    5. Delete a contact\n",
      "    9. To exit\n",
      "    Enter your choice: 2\n"
     ]
    },
    {
     "name": "stdout",
     "output_type": "stream",
     "text": [
      "-----------------------------------------------------------------------------------------------------------\n",
      "Name\t\tContact Number\n",
      "raj\t\t7896321\n",
      "yash\t\t1478963\n",
      "manish\t\t9512357\n",
      "-----------------------------------------------------------------------------------------------------------\n"
     ]
    },
    {
     "name": "stdin",
     "output_type": "stream",
     "text": [
      "\n",
      "    1. Add a contact\n",
      "    2. Display my contacts\n",
      "    3. Search contacts\n",
      "    4. Edit contact\n",
      "    5. Delete a contact\n",
      "    9. To exit\n",
      "    Enter your choice: 3\n"
     ]
    },
    {
     "name": "stdout",
     "output_type": "stream",
     "text": [
      "------------------------------------------------------------------------------\n"
     ]
    },
    {
     "name": "stdin",
     "output_type": "stream",
     "text": [
      "Enter the contact name: yash\n"
     ]
    },
    {
     "name": "stdout",
     "output_type": "stream",
     "text": [
      "yash --------> 1478963\n",
      "------------------------------------------------------------------------------\n"
     ]
    },
    {
     "name": "stdin",
     "output_type": "stream",
     "text": [
      "\n",
      "    1. Add a contact\n",
      "    2. Display my contacts\n",
      "    3. Search contacts\n",
      "    4. Edit contact\n",
      "    5. Delete a contact\n",
      "    9. To exit\n",
      "    Enter your choice: 4\n"
     ]
    },
    {
     "name": "stdout",
     "output_type": "stream",
     "text": [
      "------------------------------------------------------------------------------\n"
     ]
    },
    {
     "name": "stdin",
     "output_type": "stream",
     "text": [
      "Enter the contact name to be edited: yash\n",
      "Enter contact name: yashyadav\n",
      "Enter phone number: 456321789\n"
     ]
    },
    {
     "name": "stdout",
     "output_type": "stream",
     "text": [
      "Contact edited\n",
      "-----------------------------------------------------------------------------------------------------------\n",
      "Name\t\tContact Number\n",
      "raj\t\t7896321\n",
      "manish\t\t9512357\n",
      "yashyadav\t\t456321789\n",
      "-----------------------------------------------------------------------------------------------------------\n",
      "------------------------------------------------------------------------------\n"
     ]
    },
    {
     "name": "stdin",
     "output_type": "stream",
     "text": [
      "\n",
      "    1. Add a contact\n",
      "    2. Display my contacts\n",
      "    3. Search contacts\n",
      "    4. Edit contact\n",
      "    5. Delete a contact\n",
      "    9. To exit\n",
      "    Enter your choice: 5\n"
     ]
    },
    {
     "name": "stdout",
     "output_type": "stream",
     "text": [
      "------------------------------------------------------------------------------\n"
     ]
    },
    {
     "name": "stdin",
     "output_type": "stream",
     "text": [
      "Enter the contact to be deleted: yashyadav\n",
      "Do you want to delete this contact y/n? Y\n"
     ]
    },
    {
     "name": "stdout",
     "output_type": "stream",
     "text": [
      "------------------------------------------------------------------------------\n"
     ]
    },
    {
     "name": "stdin",
     "output_type": "stream",
     "text": [
      "\n",
      "    1. Add a contact\n",
      "    2. Display my contacts\n",
      "    3. Search contacts\n",
      "    4. Edit contact\n",
      "    5. Delete a contact\n",
      "    9. To exit\n",
      "    Enter your choice: 2\n"
     ]
    },
    {
     "name": "stdout",
     "output_type": "stream",
     "text": [
      "-----------------------------------------------------------------------------------------------------------\n",
      "Name\t\tContact Number\n",
      "raj\t\t7896321\n",
      "manish\t\t9512357\n",
      "-----------------------------------------------------------------------------------------------------------\n"
     ]
    },
    {
     "name": "stdin",
     "output_type": "stream",
     "text": [
      "\n",
      "    1. Add a contact\n",
      "    2. Display my contacts\n",
      "    3. Search contacts\n",
      "    4. Edit contact\n",
      "    5. Delete a contact\n",
      "    9. To exit\n",
      "    Enter your choice: 9\n"
     ]
    }
   ],
   "source": [
    "contact={}\n",
    "\n",
    "def contact_book():\n",
    "    print(\"-----------------------------------------------------------------------------------------------------------\")\n",
    "    print(\"Name\\t\\tContact Number\")\n",
    "    for key in contact:\n",
    "        print(\"{}\\t\\t{}\".format(key,contact.get(key)))\n",
    "    print(\"-----------------------------------------------------------------------------------------------------------\")\n",
    "\n",
    "while True:\n",
    "    user_choice=int(input(\"\"\"\n",
    "    1. Add a contact\n",
    "    2. Display my contacts\n",
    "    3. Search contacts\n",
    "    4. Edit contact\n",
    "    5. Delete a contact\n",
    "    9. To exit\n",
    "    Enter your choice:\"\"\"))\n",
    "\n",
    "    if user_choice==1:\n",
    "        print(\"-------------------------------------------------------------------------------------------------------\")\n",
    "        name=input(\"Enter the contact name:\")\n",
    "        phone=int(input(\"Enter the phone number:\"))\n",
    "        contact[name]=phone\n",
    "        print(\"------------------------------------------------------------------------------\")\n",
    "    \n",
    "    elif user_choice==2:\n",
    "        if not contact:\n",
    "            print(\"------------------------------------------------------------------------------\")\n",
    "            print(\"Empty contact name\")\n",
    "            print(\"------------------------------------------------------------------------------\")\n",
    "        else:\n",
    "            contact_book()\n",
    "    \n",
    "    elif user_choice==3:\n",
    "        print(\"------------------------------------------------------------------------------\")\n",
    "        search=input(\"Enter the contact name:\")\n",
    "        if search in contact:\n",
    "            print(search,\"-------->\",contact[search])\n",
    "        else:\n",
    "            print(\"Name is not found in contact book\")\n",
    "        print(\"------------------------------------------------------------------------------\")\n",
    "    elif user_choice==4:\n",
    "        print(\"------------------------------------------------------------------------------\")\n",
    "        edit_contact=input(\"Enter the contact name to be edited:\")\n",
    "        if edit_contact in contact:\n",
    "            contact.pop(edit_contact)\n",
    "            name=input(\"Enter contact name:\")\n",
    "            phone=input(\"Enter phone number:\")\n",
    "            edit_contact=name\n",
    "            contact[edit_contact]=phone\n",
    "            print(\"Contact edited\")\n",
    "            contact_book()\n",
    "        else:\n",
    "            print(\"Name is not found in contact book\")\n",
    "        print(\"------------------------------------------------------------------------------\")\n",
    "    \n",
    "    elif user_choice==5:\n",
    "        print(\"------------------------------------------------------------------------------\")\n",
    "        delete_contact=input(\"Enter the contact to be deleted:\")\n",
    "        if delete_contact in contact:\n",
    "            confirm=input(\"Do you want to delete this contact y/n?\")\n",
    "            if confirm=='y' or confirm=='Y':\n",
    "                contact.pop(delete_contact)\n",
    "        else:\n",
    "            print(\"Name is not found in Contact book\")\n",
    "        print(\"------------------------------------------------------------------------------\")\n",
    "    \n",
    "    else:\n",
    "        break"
   ]
  },
  {
   "cell_type": "code",
   "execution_count": null,
   "id": "e3eb632e-2ed1-4db6-8a9e-cd740c7026a8",
   "metadata": {},
   "outputs": [],
   "source": []
  }
 ],
 "metadata": {
  "kernelspec": {
   "display_name": "Python 3 (ipykernel)",
   "language": "python",
   "name": "python3"
  },
  "language_info": {
   "codemirror_mode": {
    "name": "ipython",
    "version": 3
   },
   "file_extension": ".py",
   "mimetype": "text/x-python",
   "name": "python",
   "nbconvert_exporter": "python",
   "pygments_lexer": "ipython3",
   "version": "3.12.2"
  }
 },
 "nbformat": 4,
 "nbformat_minor": 5
}
